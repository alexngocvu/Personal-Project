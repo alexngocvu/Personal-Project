{
  "nbformat": 4,
  "nbformat_minor": 0,
  "metadata": {
    "colab": {
      "provenance": [],
      "include_colab_link": true
    },
    "kernelspec": {
      "name": "python3",
      "display_name": "Python 3"
    },
    "language_info": {
      "name": "python"
    }
  },
  "cells": [
    {
      "cell_type": "markdown",
      "metadata": {
        "id": "view-in-github",
        "colab_type": "text"
      },
      "source": [
        "<a href=\"https://colab.research.google.com/github/alexngocvu/dbclass/blob/main/Database_group_assignment.ipynb\" target=\"_parent\"><img src=\"https://colab.research.google.com/assets/colab-badge.svg\" alt=\"Open In Colab\"/></a>"
      ]
    },
    {
      "cell_type": "code",
      "source": [
        "import sqlite3\n",
        "\n",
        "# Connect to SQLite database\n",
        "conn = sqlite3.connect('database.db')\n",
        "c = conn.cursor()\n",
        "\n",
        "# Create sample tables\n",
        "c.execute('''\n",
        "CREATE TABLE Departments (\n",
        "    DepartmentID INTEGER PRIMARY KEY,\n",
        "    DepartmentName TEXT\n",
        ");\n",
        "''')\n",
        "\n",
        "c.execute('''\n",
        "CREATE TABLE Projects (\n",
        "    ProjectID INTEGER PRIMARY KEY,\n",
        "    ProjectName TEXT,\n",
        "    DepartmentID INTEGER,\n",
        "    FOREIGN KEY (DepartmentID) REFERENCES Departments(DepartmentID)\n",
        ");\n",
        "''')\n",
        "\n",
        "c.execute('''\n",
        "CREATE TABLE Employees (\n",
        "    EmployeeID INTEGER PRIMARY KEY,\n",
        "    Name TEXT,\n",
        "    Position TEXT,\n",
        "    DepartmentID INTEGER,\n",
        "    Salary REAL,\n",
        "    FOREIGN KEY (DepartmentID) REFERENCES Departments(DepartmentID)\n",
        ");\n",
        "''')\n",
        "\n",
        "c.execute('''\n",
        "CREATE TABLE Assignments (\n",
        "    EmployeeID INTEGER,\n",
        "    ProjectID INTEGER,\n",
        "    HoursWorked INTEGER,\n",
        "    PRIMARY KEY (EmployeeID, ProjectID),\n",
        "    FOREIGN KEY (EmployeeID) REFERENCES Employees(EmployeeID),\n",
        "    FOREIGN KEY (ProjectID) REFERENCES Projects(ProjectID)\n",
        ");\n",
        "''')\n",
        "\n",
        "# Insert 10 rows of sample data into each table\n",
        "departments_data = [(1, 'HR'), (2, 'Engineering')]\n",
        "projects_data = [(1, 'Project A', 1), (2, 'Project B', 2)]\n",
        "employees_data = [\n",
        "    (1, 'Alice', 'HR', 1, 70000),\n",
        "    (2, 'Bob', 'Engineer', 2, 80000),\n",
        "    (3, 'Charlie', 'HR', 1, 75000),\n",
        "    (4, 'David', 'Engineer', 2, 85000),\n",
        "    (5, 'Eva', 'HR', 1, 72000),\n",
        "    (6, 'Frank', 'Engineer', 2, 90000),\n",
        "    (7, 'Grace', 'HR', 1, 78000),\n",
        "    (8, 'Henry', 'Engineer', 2, 82000),\n",
        "    (9, 'Ivy', 'HR', 1, 76000),\n",
        "    (10, 'Jack', 'Engineer', 2, 88000)\n",
        "]\n",
        "assignments_data = [\n",
        "    (1, 1, 20), (2, 2, 15), (3, 1, 25), (4, 2, 30),\n",
        "    (5, 1, 18), (6, 2, 22), (7, 1, 28), (8, 2, 32),\n",
        "    (9, 1, 24), (10, 2, 26)\n",
        "]\n",
        "\n",
        "c.executemany('INSERT INTO Departments VALUES (?, ?)', departments_data)\n",
        "c.executemany('INSERT INTO Projects VALUES (?, ?, ?)', projects_data)\n",
        "c.executemany('INSERT INTO Employees VALUES (?, ?, ?, ?, ?)', employees_data)\n",
        "c.executemany('INSERT INTO Assignments VALUES (?, ?, ?)', assignments_data)\n",
        "\n",
        "# Commit the changes and close the connection\n",
        "conn.commit()\n",
        "conn.close()\n"
      ],
      "metadata": {
        "id": "EPuVzQ4Tfbcc"
      },
      "execution_count": 8,
      "outputs": []
    },
    {
      "cell_type": "code",
      "source": [
        "#Question 4.1 (part 1) - Vu Nguyen Bao Ngoc (Student ID: 12225193)\n",
        "import sqlite3\n",
        "import pandas as pd\n",
        "\n",
        "# Connect to SQLite database\n",
        "conn = sqlite3.connect('database.db')\n",
        "c = conn.cursor()\n",
        "\n",
        "# Execute the SQL query\n",
        "c.execute('''\n",
        "    SELECT Employees.Name AS EmployeeName, Projects.ProjectName AS ProjectName\n",
        "    FROM Employees\n",
        "    JOIN Assignments ON Employees.EmployeeID = Assignments.EmployeeID\n",
        "    JOIN Projects ON Assignments.ProjectID = Projects.ProjectID\n",
        "''')\n",
        "\n",
        "# Fetch the results into a DataFrame\n",
        "rows = c.fetchall()\n",
        "df = pd.DataFrame(rows, columns=['EmployeeName', 'ProjectName'])\n",
        "\n",
        "# Print the DataFrame as a table\n",
        "print(df)\n",
        "\n",
        "# Commit the changes and close the connection\n",
        "conn.commit()\n",
        "conn.close()\n",
        "\n"
      ],
      "metadata": {
        "colab": {
          "base_uri": "https://localhost:8080/"
        },
        "id": "nz1JHGGQiqHj",
        "outputId": "24353c18-5ee4-4993-98d2-046cd30e1bc5"
      },
      "execution_count": 12,
      "outputs": [
        {
          "output_type": "stream",
          "name": "stdout",
          "text": [
            "  EmployeeName ProjectName\n",
            "0        Alice   Project A\n",
            "1          Bob   Project B\n",
            "2      Charlie   Project A\n",
            "3        David   Project B\n",
            "4          Eva   Project A\n",
            "5        Frank   Project B\n",
            "6        Grace   Project A\n",
            "7        Henry   Project B\n",
            "8          Ivy   Project A\n",
            "9         Jack   Project B\n"
          ]
        }
      ]
    },
    {
      "cell_type": "code",
      "source": [
        "#Question 4.1 (part 2) - Vu Nguyen Bao Ngoc (Student ID: 12225193)\n",
        "import sqlite3\n",
        "import pandas as pd\n",
        "\n",
        "# Connect to SQLite database\n",
        "conn = sqlite3.connect('database.db')\n",
        "c = conn.cursor()\n",
        "\n",
        "# Execute the SQL query to find the department with the highest average salary\n",
        "c.execute('''\n",
        "    SELECT DepartmentName, AVG(Salary) AS AvgSalary\n",
        "    FROM Employees\n",
        "    JOIN Departments ON Employees.DepartmentID = Departments.DepartmentID\n",
        "    GROUP BY Departments.DepartmentID\n",
        "    HAVING AVG(Salary) = (\n",
        "        SELECT MAX(AvgSal)\n",
        "        FROM (\n",
        "            SELECT AVG(Salary) AS AvgSal\n",
        "            FROM Employees\n",
        "            GROUP BY DepartmentID\n",
        "        )\n",
        "    );\n",
        "''')\n",
        "\n",
        "# Fetch the results into a DataFrame\n",
        "rows = c.fetchall()\n",
        "df = pd.DataFrame(rows, columns=['DepartmentName', 'AvgSalary'])\n",
        "\n",
        "# Print the DataFrame as a table\n",
        "print(df)\n",
        "\n",
        "# Commit the changes and close the connection\n",
        "conn.commit()\n",
        "conn.close()"
      ],
      "metadata": {
        "colab": {
          "base_uri": "https://localhost:8080/"
        },
        "id": "L5_cPFp7kynS",
        "outputId": "fc00b8b3-f5ec-4b94-f758-5102aebed7a9"
      },
      "execution_count": 13,
      "outputs": [
        {
          "output_type": "stream",
          "name": "stdout",
          "text": [
            "  DepartmentName  AvgSalary\n",
            "0    Engineering    85000.0\n"
          ]
        }
      ]
    },
    {
      "cell_type": "code",
      "source": [
        "import sqlite3\n",
        "import pandas as pd\n",
        "\n",
        "conn = sqlite3.connect('database.db')\n",
        "c = conn.cursor()\n",
        "\n",
        "# Execute the SELECT statement with the RANK() window function\n",
        "c.execute('''\n",
        "SELECT\n",
        "    EmployeeID,\n",
        "    Name,\n",
        "    Position,\n",
        "    DepartmentID,\n",
        "    Salary,\n",
        "    RANK() OVER (ORDER BY Salary DESC) AS SalaryRank\n",
        "FROM Employees;\n",
        "''')\n",
        "\n",
        "# Fetch all the results\n",
        "result = c.fetchall()\n",
        "\n",
        "# Create a DataFrame from the result\n",
        "columns = ['EmployeeID', 'Name', 'Position', 'DepartmentID', 'Salary', 'SalaryRank']\n",
        "df = pd.DataFrame(result, columns=columns)\n",
        "\n",
        "# Print the DataFrame\n",
        "print(df)\n",
        "\n",
        "# Commit the changes and close the connection\n",
        "conn.commit()\n",
        "conn.close()\n"
      ],
      "metadata": {
        "colab": {
          "base_uri": "https://localhost:8080/"
        },
        "id": "0mEqubXXg7MW",
        "outputId": "d82044e3-22a2-4153-b3c7-10843a4de1d0"
      },
      "execution_count": null,
      "outputs": [
        {
          "output_type": "stream",
          "name": "stdout",
          "text": [
            "   EmployeeID     Name  Position  DepartmentID   Salary  SalaryRank\n",
            "0           6    Frank  Engineer             2  90000.0           1\n",
            "1          10     Jack  Engineer             2  88000.0           2\n",
            "2           4    David  Engineer             2  85000.0           3\n",
            "3           8    Henry  Engineer             2  82000.0           4\n",
            "4           2      Bob  Engineer             2  80000.0           5\n",
            "5           7    Grace        HR             1  78000.0           6\n",
            "6           9      Ivy        HR             1  76000.0           7\n",
            "7           3  Charlie        HR             1  75000.0           8\n",
            "8           5      Eva        HR             1  72000.0           9\n",
            "9           1    Alice        HR             1  70000.0          10\n"
          ]
        }
      ]
    }
  ]
}