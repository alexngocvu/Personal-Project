{
  "nbformat": 4,
  "nbformat_minor": 0,
  "metadata": {
    "colab": {
      "provenance": [],
      "authorship_tag": "ABX9TyOUH19bOOAwryzkTAXPt1Fw",
      "include_colab_link": true
    },
    "kernelspec": {
      "name": "python3",
      "display_name": "Python 3"
    },
    "language_info": {
      "name": "python"
    }
  },
  "cells": [
    {
      "cell_type": "markdown",
      "metadata": {
        "id": "view-in-github",
        "colab_type": "text"
      },
      "source": [
        "<a href=\"https://colab.research.google.com/github/alexngocvu/dbclass/blob/main/Script_for_creating_tables.ipynb\" target=\"_parent\"><img src=\"https://colab.research.google.com/assets/colab-badge.svg\" alt=\"Open In Colab\"/></a>"
      ]
    },
    {
      "cell_type": "code",
      "execution_count": null,
      "metadata": {
        "id": "2QHUtmVGq0JP"
      },
      "outputs": [],
      "source": []
    },
    {
      "cell_type": "code",
      "execution_count": 2,
      "metadata": {
        "colab": {
          "base_uri": "https://localhost:8080/"
        },
        "id": "9h4IUPswbMzw",
        "outputId": "822afdc8-f819-4e53-da4c-a42d715215c5"
      },
      "outputs": [
        {
          "output_type": "execute_result",
          "data": {
            "text/plain": [
              "<sqlite3.Cursor at 0x78e4904e83c0>"
            ]
          },
          "metadata": {},
          "execution_count": 2
        }
      ],
      "source": [
        "import sqlite3\n",
        "\n",
        "# Connect to a SQLite database\n",
        "conn = sqlite3.connect('ITS_Database.db')\n",
        "cursor = conn.cursor()\n",
        "\n",
        "# Create the Vehicle Table\n",
        "cursor.execute('''\n",
        "    CREATE TABLE IF NOT EXISTS Vehicle (\n",
        "        VehicleID TEXT PRIMARY KEY NOT NULL,\n",
        "        RegistrationID TEXT NOT NULL,\n",
        "        Manufacturer TEXT NOT NULL,\n",
        "        Model TEXT NOT NULL,\n",
        "        Color TEXT NOT NULL,\n",
        "        CurrentOdometer INTEGER NOT NULL,\n",
        "        PassengerCapacity INTEGER NOT NULL\n",
        "    )\n",
        "''')\n",
        "\n",
        "# Create the Maintenance/Repair History Table\n",
        "cursor.execute('''\n",
        "    CREATE TABLE IF NOT EXISTS MaintenanceRepairHistory (\n",
        "        ActionID INTEGER PRIMARY KEY NOT NULL,\n",
        "        VehicleID TEXT NOT NULL,\n",
        "        ActionType TEXT NOT NULL,\n",
        "        Odometer INTEGER NOT NULL,\n",
        "        Cost REAL NOT NULL,\n",
        "        Description TEXT NOT NULL,\n",
        "        Date DATE NOT NULL,\n",
        "        FOREIGN KEY (VehicleID) REFERENCES Vehicle(VehicleID)\n",
        "    )\n",
        "''')\n",
        "\n",
        "# Create the Country Table\n",
        "cursor.execute('''\n",
        "    CREATE TABLE IF NOT EXISTS Country (\n",
        "        CountryCode TEXT PRIMARY KEY NOT NULL,\n",
        "        CountryName TEXT NOT NULL\n",
        "    )\n",
        "''')\n",
        "\n",
        "# Create the Spoken Languages Table\n",
        "cursor.execute('''\n",
        "    CREATE TABLE IF NOT EXISTS SpokenLanguages (\n",
        "        LanguageCode TEXT PRIMARY KEY NOT NULL,\n",
        "        LanguageName TEXT NOT NULL\n",
        "    )\n",
        "''')\n",
        "\n",
        "# Create the Official Table\n",
        "cursor.execute('''\n",
        "    CREATE TABLE IF NOT EXISTS Official (\n",
        "        OfficialID INTEGER PRIMARY KEY NOT NULL,\n",
        "        CountryCode TEXT NOT NULL,\n",
        "        CityID TEXT NOT NULL,\n",
        "        Name TEXT NOT NULL,\n",
        "        Role TEXT NOT NULL,\n",
        "        PreferredLanguage TEXT NOT NULL,\n",
        "        FOREIGN KEY (CountryCode) REFERENCES Country(CountryCode),\n",
        "        FOREIGN KEY (PreferredLanguage) REFERENCES SpokenLanguages(LanguageCode)\n",
        "    )\n",
        "''')\n",
        "\n",
        "# Create the Driver Table\n",
        "cursor.execute('''\n",
        "    CREATE TABLE IF NOT EXISTS Driver (\n",
        "        DriverID INTEGER PRIMARY KEY NOT NULL,\n",
        "        FirstName TEXT NOT NULL,\n",
        "        LastName TEXT NOT NULL,\n",
        "        LicenseNumber TEXT NOT NULL,\n",
        "        ClearanceLevel INTEGER NOT NULL,\n",
        "        FirstAidTrainingLevel INTEGER,\n",
        "        FirstAidTrainingDate DATE,\n",
        "        STLVTLevel INTEGER,\n",
        "        STLVTQualificationDate DATE,\n",
        "        CertifyingAuthority TEXT\n",
        "    )\n",
        "''')\n",
        "\n",
        "# Create the Language Match Table\n",
        "cursor.execute('''\n",
        "    CREATE TABLE IF NOT EXISTS LanguageMatch (\n",
        "        OfficialID INTEGER NOT NULL,\n",
        "        DriverID INTEGER NOT NULL,\n",
        "        FOREIGN KEY (OfficialID) REFERENCES Official(OfficialID),\n",
        "        FOREIGN KEY (DriverID) REFERENCES Driver(DriverID)\n",
        "    )\n",
        "''')\n",
        "\n",
        "# Create the Booking Table\n",
        "cursor.execute('''\n",
        "    CREATE TABLE IF NOT EXISTS Booking (\n",
        "        BookingReferenceNumber INTEGER PRIMARY KEY NOT NULL,\n",
        "        OfficialID INTEGER NOT NULL,\n",
        "        DriverID INTEGER NOT NULL,\n",
        "        VehicleID TEXT NOT NULL,\n",
        "        StartLocation TEXT NOT NULL,\n",
        "        EndLocation TEXT NOT NULL,\n",
        "        LocationType TEXT NOT NULL,\n",
        "        StartDateTime DATETIME NOT NULL,\n",
        "        EndDateTime DATETIME NOT NULL,\n",
        "        StartOdometerValue INTEGER NOT NULL,\n",
        "        EndOdometerValue INTEGER NOT NULL,\n",
        "        FOREIGN KEY (OfficialID) REFERENCES Official(OfficialID),\n",
        "        FOREIGN KEY (DriverID) REFERENCES Driver(DriverID),\n",
        "        FOREIGN KEY (VehicleID) REFERENCES Vehicle(VehicleID)\n",
        "    )\n",
        "''')\n",
        "\n",
        "# Create the Availability Table\n",
        "cursor.execute('''\n",
        "    CREATE TABLE IF NOT EXISTS Availability (\n",
        "        VehicleID TEXT PRIMARY KEY NOT NULL,\n",
        "        AvailabilityStatus TEXT NOT NULL\n",
        "    )\n",
        "''')\n"
      ]
    }
  ]
}