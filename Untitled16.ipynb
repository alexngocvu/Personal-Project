{
  "nbformat": 4,
  "nbformat_minor": 0,
  "metadata": {
    "colab": {
      "provenance": [],
      "authorship_tag": "ABX9TyOSrjoCJ86OaEGCFWsiSCuA",
      "include_colab_link": true
    },
    "kernelspec": {
      "name": "python3",
      "display_name": "Python 3"
    },
    "language_info": {
      "name": "python"
    }
  },
  "cells": [
    {
      "cell_type": "markdown",
      "metadata": {
        "id": "view-in-github",
        "colab_type": "text"
      },
      "source": [
        "<a href=\"https://colab.research.google.com/github/alexngocvu/Personal-Project/blob/main/Untitled16.ipynb\" target=\"_parent\"><img src=\"https://colab.research.google.com/assets/colab-badge.svg\" alt=\"Open In Colab\"/></a>"
      ]
    },
    {
      "cell_type": "code",
      "execution_count": null,
      "metadata": {
        "id": "1CWMgBxb0LkK"
      },
      "outputs": [],
      "source": [
        "import numpy as np\n",
        "from numpy.linalg import svd\n",
        "\n",
        "\n",
        "# 1. 사용자-아이템 평점 행렬 정의\n",
        "ratings = np.array([\n",
        "    [5, 3, 0, 1],  # 사용자 0\n",
        "    [4, 0, 0, 1],  # 사용자 1\n",
        "    [1, 1, 0, 5],  # 사용자 2\n",
        "    [1, 0, 0, 4],  # 사용자 3\n",
        "    [0, 1, 5, 4],  # 사용자 4\n",
        "], dtype=float)"
      ]
    }
  ]
}