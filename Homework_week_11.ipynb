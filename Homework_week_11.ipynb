{
  "nbformat": 4,
  "nbformat_minor": 0,
  "metadata": {
    "colab": {
      "provenance": [],
      "authorship_tag": "ABX9TyOUJIGhjMqCO79u7svkg7Wk",
      "include_colab_link": true
    },
    "kernelspec": {
      "name": "python3",
      "display_name": "Python 3"
    },
    "language_info": {
      "name": "python"
    }
  },
  "cells": [
    {
      "cell_type": "markdown",
      "metadata": {
        "id": "view-in-github",
        "colab_type": "text"
      },
      "source": [
        "<a href=\"https://colab.research.google.com/github/alexngocvu/dbclass/blob/main/Homework_week_11.ipynb\" target=\"_parent\"><img src=\"https://colab.research.google.com/assets/colab-badge.svg\" alt=\"Open In Colab\"/></a>"
      ]
    },
    {
      "cell_type": "code",
      "execution_count": null,
      "metadata": {
        "id": "XAYVyEnfGzzH"
      },
      "outputs": [],
      "source": [
        "CREATE TABLE gpa AS\n",
        "SELECT\n",
        "    student_id,\n",
        "    SUM(CASE\n",
        "        WHEN grade = 'A+' THEN 4.50 * credits\n",
        "        WHEN grade = 'A' THEN 4.00 * credits\n",
        "        WHEN grade = 'B+' THEN 3.50 * credits\n",
        "        WHEN grade = 'B' THEN 3.00 * credits\n",
        "        ELSE 0\n",
        "    END) AS obtained,\n",
        "    SUM(4.50 * credits) AS maximum\n",
        "FROM grades\n",
        "GROUP BY student_id;"
      ]
    },
    {
      "cell_type": "code",
      "source": [
        "SELECT\n",
        "    CASE\n",
        "        WHEN maximum > 0 AND obtained / maximum BETWEEN 3.75 AND 4.50 THEN 'A'\n",
        "        WHEN maximum > 0 AND obtained / maximum BETWEEN 3.00 AND 3.75 THEN 'B'\n",
        "        WHEN maximum > 0 AND obtained / maximum BETWEEN 2.00 AND 3.00 THEN 'C'\n",
        "        WHEN maximum > 0 AND obtained / maximum BETWEEN 1.50 AND 2.00 THEN 'D'\n",
        "        WHEN maximum > 0 AND obtained / maximum < 1.50 THEN 'F'\n",
        "        ELSE 'Unknown'\n",
        "    END AS category,\n",
        "    COUNT(*) AS student_count\n",
        "FROM gpa\n",
        "GROUP BY category;"
      ],
      "metadata": {
        "id": "VS-YEQbfMNwd"
      },
      "execution_count": null,
      "outputs": []
    }
  ]
}