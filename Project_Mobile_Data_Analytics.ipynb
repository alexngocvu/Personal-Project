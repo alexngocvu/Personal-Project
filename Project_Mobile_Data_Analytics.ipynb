{
  "nbformat": 4,
  "nbformat_minor": 0,
  "metadata": {
    "colab": {
      "provenance": [],
      "authorship_tag": "ABX9TyOAcVfcZCSxZoSqG5laYdGp",
      "include_colab_link": true
    },
    "kernelspec": {
      "name": "python3",
      "display_name": "Python 3"
    },
    "language_info": {
      "name": "python"
    }
  },
  "cells": [
    {
      "cell_type": "markdown",
      "metadata": {
        "id": "view-in-github",
        "colab_type": "text"
      },
      "source": [
        "<a href=\"https://colab.research.google.com/github/alexngocvu/Personal-Project/blob/main/Project_Mobile_Data_Analytics.ipynb\" target=\"_parent\"><img src=\"https://colab.research.google.com/assets/colab-badge.svg\" alt=\"Open In Colab\"/></a>"
      ]
    },
    {
      "cell_type": "code",
      "execution_count": null,
      "metadata": {
        "id": "nGlf6Z9I9n3C",
        "outputId": "07522f13-781a-4ed6-ad17-916c324c1f1b",
        "colab": {
          "base_uri": "https://localhost:8080/"
        }
      },
      "outputs": [
        {
          "output_type": "stream",
          "name": "stdout",
          "text": [
            "Dataset generated: users.csv, logins.csv, transactions.csv\n"
          ]
        }
      ],
      "source": [
        "import pandas as pd\n",
        "import numpy as np\n",
        "from datetime import datetime, timedelta\n",
        "\n",
        "# Set random seed for reproducibility\n",
        "np.random.seed(42)\n",
        "\n",
        "# Generate users (1,000 users signing up between Jan-May 2025)\n",
        "n_users = 1000\n",
        "start_date = datetime(2025, 1, 1)\n",
        "users = pd.DataFrame({\n",
        "    'user_id': range(1, n_users + 1),\n",
        "    'signup_date': [start_date + timedelta(days=np.random.randint(0, 150)) for _ in range(n_users)]\n",
        "})\n",
        "\n",
        "# Generate logins (multiple logins per user within 30 days of signup)\n",
        "logins = []\n",
        "for _, row in users.iterrows():\n",
        "    signup = row['signup_date']\n",
        "    n_logins = np.random.randint(0, 10)  # 0-10 logins\n",
        "    for _ in range(n_logins):\n",
        "        login_date = signup + timedelta(days=np.random.randint(0, 30))\n",
        "        logins.append({'user_id': row['user_id'], 'login_date': login_date})\n",
        "logins = pd.DataFrame(logins)\n",
        "\n",
        "# Generate transactions (some users make transactions)\n",
        "transactions = []\n",
        "for _, row in users.iterrows():\n",
        "    if np.random.random() < 0.6:  # 60% of users make transactions\n",
        "        n_transactions = np.random.randint(1, 5)\n",
        "        for _ in range(n_transactions):\n",
        "            trans_date = row['signup_date'] + timedelta(days=np.random.randint(0, 30))\n",
        "            amount = np.random.uniform(10, 500)  # Transaction amount $10-$500\n",
        "            transactions.append({'user_id': row['user_id'], 'transaction_date': trans_date, 'amount': amount})\n",
        "transactions = pd.DataFrame(transactions)\n",
        "\n",
        "# Save to CSV\n",
        "users.to_csv('users.csv', index=False)\n",
        "logins.to_csv('logins.csv', index=False)\n",
        "transactions.to_csv('transactions.csv', index=False)\n",
        "\n",
        "print(\"Dataset generated: users.csv, logins.csv, transactions.csv\")"
      ]
    }
  ]
}